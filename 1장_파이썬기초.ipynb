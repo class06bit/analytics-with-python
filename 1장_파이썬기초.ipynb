{
 "cells": [
  {
   "cell_type": "code",
   "execution_count": 9,
   "metadata": {},
   "outputs": [
    {
     "name": "stdout",
     "output_type": "stream",
     "text": [
      "#7: 3.074\n",
      "#8: 11.8\n",
      "#9: 2.67\n"
     ]
    }
   ],
   "source": [
    "# 실수\n",
    "print(\"#7: {0:.3f}\".format(8.3/2.7))\n",
    "y = 2.5*4.7\n",
    "print(\"#8: {0:.1f}\".format(y))\n",
    "r = 8/float(3)\n",
    "print(\"#9: {0:.2f}\".format(r))"
   ]
  },
  {
   "cell_type": "code",
   "execution_count": 10,
   "metadata": {},
   "outputs": [],
   "source": [
    "# math 모듈 임포트\n",
    "from math import exp, log, sqrt"
   ]
  },
  {
   "cell_type": "code",
   "execution_count": 15,
   "metadata": {},
   "outputs": [
    {
     "name": "stdout",
     "output_type": "stream",
     "text": [
      "#10: 20.0855\n",
      "#10: 1.39\n",
      "#10: 9.0\n"
     ]
    }
   ],
   "source": [
    "print(\"#10: {:.4f}\".format(exp(3)))\n",
    "print(\"#10: {:.2f}\".format(log(4)))\n",
    "print(\"#10: {:.1f}\".format(sqrt(81)))"
   ]
  },
  {
   "cell_type": "code",
   "execution_count": 21,
   "metadata": {},
   "outputs": [
    {
     "name": "stdout",
     "output_type": "stream",
     "text": [
      "['My', 'deliverable', 'is', 'due', 'in', 'May']\n",
      "['My', 'deliverable', 'is due in May']\n",
      "['Your', 'deliverable', 'is', 'due', 'in', 'June']\n"
     ]
    }
   ],
   "source": [
    "# split\n",
    "string1 = \"My deliverable is due in May\"\n",
    "string1_list1 = string1.split()\n",
    "string1_list2 = string1.split(\" \", 2)\n",
    "print(string1_list1)\n",
    "print(string1_list2)\n",
    "\n",
    "string2 = \"Your,deliverable,is,due,in,June\"\n",
    "string2_list = string2.split(',')\n",
    "print(string2_list)"
   ]
  },
  {
   "cell_type": "code",
   "execution_count": 22,
   "metadata": {},
   "outputs": [
    {
     "name": "stdout",
     "output_type": "stream",
     "text": [
      "#25: Your,deliverable,is,due,in,June\n"
     ]
    }
   ],
   "source": [
    "# join\n",
    "print(\"#25: {}\".format(','.join(string2_list)))"
   ]
  },
  {
   "cell_type": "code",
   "execution_count": 29,
   "metadata": {},
   "outputs": [
    {
     "name": "stdout",
     "output_type": "stream",
     "text": [
      "#26:  Remove  unwanted characters   from this string.\t\t     \n",
      "\n",
      "#27: Remove  unwanted characters   from this string.\t\t     \n",
      "\n",
      "#28:  Remove  unwanted characters   from this string.\n",
      "#28: Remove  unwanted characters   from this string.\n"
     ]
    }
   ],
   "source": [
    "# strip\n",
    "string3 =\" Remove  unwanted characters   from this string.\\t\\t     \\n\"\n",
    "print(\"#26: {}\".format(string3))\n",
    "string3_lstrip = string3.lstrip()\n",
    "print(\"#27: {}\".format(string3_lstrip))\n",
    "string3_rstrip = string3.rstrip()\n",
    "print(\"#28: {}\".format(string3_rstrip))\n",
    "string3_strip = string3.strip()\n",
    "print(\"#28: {}\".format(string3_strip))\n"
   ]
  },
  {
   "cell_type": "code",
   "execution_count": 36,
   "metadata": {},
   "outputs": [
    {
     "name": "stdout",
     "output_type": "stream",
     "text": [
      "#29: $$Here's another string that has unwanted characters.__----++\n",
      "#30: Here's another string that has unwanted characters.\n"
     ]
    }
   ],
   "source": [
    "string4 = \"$$Here's another string that has unwanted characters.__----++\"\n",
    "print(\"#29: {}\".format(string4))\n",
    "string4_strip = string4.strip('$_-+')\n",
    "print(\"#30: {}\".format(string4_strip))"
   ]
  },
  {
   "cell_type": "code",
   "execution_count": 41,
   "metadata": {},
   "outputs": [
    {
     "name": "stdout",
     "output_type": "stream",
     "text": [
      "#34: here's what happens when you use lower.\n",
      "#35: HERE'S WHAT HAPPENS WHEN YOU USE LOWER.\n",
      "#36: Here's what happens when you use lower.\n",
      "#37: Here's\n",
      "#37: What\n",
      "#37: Happens\n",
      "#37: When\n",
      "#37: You\n",
      "#37: Use\n",
      "#37: Lower.\n"
     ]
    }
   ],
   "source": [
    "# lower, upper, capitalize\n",
    "string6 = \"Here's WHAT Happens WHEN You Use lower.\"\n",
    "print(\"#34: {}\".format(string6.lower()))\n",
    "print(\"#35: {}\".format(string6.upper()))\n",
    "print(\"#36: {}\".format(string6.capitalize()))\n",
    "\n",
    "string6_list = string6.split()\n",
    "for word in string6_list:\n",
    "    print(\"#37: {}\".format(word.capitalize()))"
   ]
  },
  {
   "cell_type": "code",
   "execution_count": 42,
   "metadata": {},
   "outputs": [],
   "source": [
    "# 정규 표현식과 패턴 매칭\n",
    "import re"
   ]
  },
  {
   "cell_type": "code",
   "execution_count": 60,
   "metadata": {},
   "outputs": [
    {
     "name": "stdout",
     "output_type": "stream",
     "text": [
      "2\n"
     ]
    }
   ],
   "source": [
    "# 문자열 내에 등장하는 패턴의 횟수를 세기\n",
    "string = \"The quick brown for jumps over the lazy dog\"\n",
    "string_list = string.split()\n",
    "pattern = re.compile(r\"THE\", re.I) # 컴파일을 통해서 프로그램 속도 향상\n",
    "count = 0\n",
    "\n",
    "for word in string_list:\n",
    "    if pattern.search(word):\n",
    "        count += 1\n",
    "\n",
    "print(count)"
   ]
  },
  {
   "cell_type": "code",
   "execution_count": 64,
   "metadata": {},
   "outputs": [
    {
     "name": "stdout",
     "output_type": "stream",
     "text": [
      "#39:\n",
      "The\n",
      "the\n"
     ]
    }
   ],
   "source": [
    "# 문자열 내에서 발견된 패턴 출력하기\n",
    "string = \"The quick brown for jumps over the lazy dog.\"\n",
    "string_list = string.split()\n",
    "pattern = re.compile(r\"(?P<match_word>The)\", re.I)\n",
    "print(\"#39:\")\n",
    "for word in string_list:\n",
    "    if pattern.search(word):\n",
    "        print(\"{}\".format(pattern.search(word).group('match_word')))\n",
    "    "
   ]
  },
  {
   "cell_type": "code",
   "execution_count": 66,
   "metadata": {},
   "outputs": [
    {
     "name": "stdout",
     "output_type": "stream",
     "text": [
      "#40: a quick brown fox jumps over a lazy dog.\n"
     ]
    }
   ],
   "source": [
    "# 문자열 내 \"the\"를 \"a\"로 대체하기\n",
    "string = \"The quick brown fox jumps over the lazy dog.\"\n",
    "string_to_find = r\"The\"\n",
    "pattern = re.compile(string_to_find, re.I)\n",
    "print(\"#40: {}\".format(pattern.sub(\"a\", string)))"
   ]
  },
  {
   "cell_type": "code",
   "execution_count": null,
   "metadata": {},
   "outputs": [],
   "source": []
  }
 ],
 "metadata": {
  "kernelspec": {
   "display_name": "Python 3",
   "language": "python",
   "name": "python3"
  },
  "language_info": {
   "codemirror_mode": {
    "name": "ipython",
    "version": 3
   },
   "file_extension": ".py",
   "mimetype": "text/x-python",
   "name": "python",
   "nbconvert_exporter": "python",
   "pygments_lexer": "ipython3",
   "version": "3.6.0"
  }
 },
 "nbformat": 4,
 "nbformat_minor": 2
}
