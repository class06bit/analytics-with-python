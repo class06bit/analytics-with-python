{
 "cells": [
  {
   "cell_type": "code",
   "execution_count": 7,
   "metadata": {},
   "outputs": [],
   "source": [
    "import pandas as pd\n",
    "import sys"
   ]
  },
  {
   "cell_type": "code",
   "execution_count": 2,
   "metadata": {
    "scrolled": true
   },
   "outputs": [
    {
     "name": "stdout",
     "output_type": "stream",
     "text": [
      "/Users/Leehyunjoo/Dev/09_study/analytics-with-python/chapter_02/input_files\n"
     ]
    }
   ],
   "source": [
    "cd input_files"
   ]
  },
  {
   "cell_type": "code",
   "execution_count": 3,
   "metadata": {},
   "outputs": [
    {
     "name": "stdout",
     "output_type": "stream",
     "text": [
      "deal_1.csv\r\n",
      "deal_2.csv\r\n",
      "deal_3.csv\r\n",
      "sales_february_2014.csv\r\n",
      "sales_january_2014.csv\r\n",
      "sales_march_2014.csv\r\n",
      "supplier_data.csv\r\n",
      "supplier_data_unnecessary_header_footer.csv\r\n",
      "supplier_data_without_header.csv\r\n"
     ]
    }
   ],
   "source": [
    "ls"
   ]
  },
  {
   "cell_type": "code",
   "execution_count": 158,
   "metadata": {},
   "outputs": [
    {
     "name": "stdout",
     "output_type": "stream",
     "text": [
      "I don't care about this row,,,,\r\n",
      "I don't care about this row,,,,\r\n",
      "I don't care about this row,,,,\r\n",
      "Supplier Name,Invoice Number,Part Number,Cost,Purchase Date\r\n",
      "Supplier X,001-1001,2341,$500.00 ,1/20/2014\r\n",
      "Supplier X,001-1001,2341,$500.00 ,1/20/2014\r\n",
      "Supplier X,001-1001,5467,$750.00 ,1/20/2014\r\n",
      "Supplier Z,920-4805,3321,$615.00 ,2/17/2014\r\n",
      "Supplier Z,920-4806,3321,$615.00 ,2/24/2014\r\n",
      "I don't want this row either,,,,\r\n",
      "I don't want this row either,,,,\r\n",
      "I don't want this row either,,,,"
     ]
    }
   ],
   "source": [
    "cat supplier_data_unnecessary_header_footer.csv"
   ]
  },
  {
   "cell_type": "markdown",
   "metadata": {},
   "source": [
    "## 특정 행번호만 선택하기"
   ]
  },
  {
   "cell_type": "code",
   "execution_count": 159,
   "metadata": {},
   "outputs": [
    {
     "data": {
      "text/html": [
       "<div>\n",
       "<style scoped>\n",
       "    .dataframe tbody tr th:only-of-type {\n",
       "        vertical-align: middle;\n",
       "    }\n",
       "\n",
       "    .dataframe tbody tr th {\n",
       "        vertical-align: top;\n",
       "    }\n",
       "\n",
       "    .dataframe thead th {\n",
       "        text-align: right;\n",
       "    }\n",
       "</style>\n",
       "<table border=\"1\" class=\"dataframe\">\n",
       "  <thead>\n",
       "    <tr style=\"text-align: right;\">\n",
       "      <th></th>\n",
       "      <th>0</th>\n",
       "      <th>1</th>\n",
       "      <th>2</th>\n",
       "      <th>3</th>\n",
       "      <th>4</th>\n",
       "    </tr>\n",
       "  </thead>\n",
       "  <tbody>\n",
       "    <tr>\n",
       "      <th>0</th>\n",
       "      <td>I don't care about this row</td>\n",
       "      <td>NaN</td>\n",
       "      <td>NaN</td>\n",
       "      <td>NaN</td>\n",
       "      <td>NaN</td>\n",
       "    </tr>\n",
       "    <tr>\n",
       "      <th>1</th>\n",
       "      <td>I don't care about this row</td>\n",
       "      <td>NaN</td>\n",
       "      <td>NaN</td>\n",
       "      <td>NaN</td>\n",
       "      <td>NaN</td>\n",
       "    </tr>\n",
       "    <tr>\n",
       "      <th>2</th>\n",
       "      <td>I don't care about this row</td>\n",
       "      <td>NaN</td>\n",
       "      <td>NaN</td>\n",
       "      <td>NaN</td>\n",
       "      <td>NaN</td>\n",
       "    </tr>\n",
       "    <tr>\n",
       "      <th>3</th>\n",
       "      <td>Supplier Name</td>\n",
       "      <td>Invoice Number</td>\n",
       "      <td>Part Number</td>\n",
       "      <td>Cost</td>\n",
       "      <td>Purchase Date</td>\n",
       "    </tr>\n",
       "    <tr>\n",
       "      <th>4</th>\n",
       "      <td>Supplier X</td>\n",
       "      <td>001-1001</td>\n",
       "      <td>2341</td>\n",
       "      <td>$500.00</td>\n",
       "      <td>1/20/2014</td>\n",
       "    </tr>\n",
       "    <tr>\n",
       "      <th>5</th>\n",
       "      <td>Supplier X</td>\n",
       "      <td>001-1001</td>\n",
       "      <td>2341</td>\n",
       "      <td>$500.00</td>\n",
       "      <td>1/20/2014</td>\n",
       "    </tr>\n",
       "    <tr>\n",
       "      <th>6</th>\n",
       "      <td>Supplier X</td>\n",
       "      <td>001-1001</td>\n",
       "      <td>5467</td>\n",
       "      <td>$750.00</td>\n",
       "      <td>1/20/2014</td>\n",
       "    </tr>\n",
       "    <tr>\n",
       "      <th>7</th>\n",
       "      <td>Supplier Z</td>\n",
       "      <td>920-4805</td>\n",
       "      <td>3321</td>\n",
       "      <td>$615.00</td>\n",
       "      <td>2/17/2014</td>\n",
       "    </tr>\n",
       "    <tr>\n",
       "      <th>8</th>\n",
       "      <td>Supplier Z</td>\n",
       "      <td>920-4806</td>\n",
       "      <td>3321</td>\n",
       "      <td>$615.00</td>\n",
       "      <td>2/24/2014</td>\n",
       "    </tr>\n",
       "    <tr>\n",
       "      <th>9</th>\n",
       "      <td>I don't want this row either</td>\n",
       "      <td>NaN</td>\n",
       "      <td>NaN</td>\n",
       "      <td>NaN</td>\n",
       "      <td>NaN</td>\n",
       "    </tr>\n",
       "    <tr>\n",
       "      <th>10</th>\n",
       "      <td>I don't want this row either</td>\n",
       "      <td>NaN</td>\n",
       "      <td>NaN</td>\n",
       "      <td>NaN</td>\n",
       "      <td>NaN</td>\n",
       "    </tr>\n",
       "    <tr>\n",
       "      <th>11</th>\n",
       "      <td>I don't want this row either</td>\n",
       "      <td>NaN</td>\n",
       "      <td>NaN</td>\n",
       "      <td>NaN</td>\n",
       "      <td>NaN</td>\n",
       "    </tr>\n",
       "  </tbody>\n",
       "</table>\n",
       "</div>"
      ],
      "text/plain": [
       "                               0               1            2         3  \\\n",
       "0    I don't care about this row             NaN          NaN       NaN   \n",
       "1    I don't care about this row             NaN          NaN       NaN   \n",
       "2    I don't care about this row             NaN          NaN       NaN   \n",
       "3                  Supplier Name  Invoice Number  Part Number      Cost   \n",
       "4                     Supplier X        001-1001         2341  $500.00    \n",
       "5                     Supplier X        001-1001         2341  $500.00    \n",
       "6                     Supplier X        001-1001         5467  $750.00    \n",
       "7                     Supplier Z        920-4805         3321  $615.00    \n",
       "8                     Supplier Z        920-4806         3321  $615.00    \n",
       "9   I don't want this row either             NaN          NaN       NaN   \n",
       "10  I don't want this row either             NaN          NaN       NaN   \n",
       "11  I don't want this row either             NaN          NaN       NaN   \n",
       "\n",
       "                4  \n",
       "0             NaN  \n",
       "1             NaN  \n",
       "2             NaN  \n",
       "3   Purchase Date  \n",
       "4       1/20/2014  \n",
       "5       1/20/2014  \n",
       "6       1/20/2014  \n",
       "7       2/17/2014  \n",
       "8       2/24/2014  \n",
       "9             NaN  \n",
       "10            NaN  \n",
       "11            NaN  "
      ]
     },
     "execution_count": 159,
     "metadata": {},
     "output_type": "execute_result"
    }
   ],
   "source": [
    "data_frame = pd.read_csv('supplier_data_unnecessary_header_footer.csv', header=None)\n",
    "data_frame"
   ]
  },
  {
   "cell_type": "code",
   "execution_count": 160,
   "metadata": {},
   "outputs": [
    {
     "data": {
      "text/html": [
       "<div>\n",
       "<style scoped>\n",
       "    .dataframe tbody tr th:only-of-type {\n",
       "        vertical-align: middle;\n",
       "    }\n",
       "\n",
       "    .dataframe tbody tr th {\n",
       "        vertical-align: top;\n",
       "    }\n",
       "\n",
       "    .dataframe thead th {\n",
       "        text-align: right;\n",
       "    }\n",
       "</style>\n",
       "<table border=\"1\" class=\"dataframe\">\n",
       "  <thead>\n",
       "    <tr style=\"text-align: right;\">\n",
       "      <th></th>\n",
       "      <th>0</th>\n",
       "      <th>1</th>\n",
       "      <th>2</th>\n",
       "      <th>3</th>\n",
       "      <th>4</th>\n",
       "    </tr>\n",
       "  </thead>\n",
       "  <tbody>\n",
       "    <tr>\n",
       "      <th>3</th>\n",
       "      <td>Supplier Name</td>\n",
       "      <td>Invoice Number</td>\n",
       "      <td>Part Number</td>\n",
       "      <td>Cost</td>\n",
       "      <td>Purchase Date</td>\n",
       "    </tr>\n",
       "    <tr>\n",
       "      <th>4</th>\n",
       "      <td>Supplier X</td>\n",
       "      <td>001-1001</td>\n",
       "      <td>2341</td>\n",
       "      <td>$500.00</td>\n",
       "      <td>1/20/2014</td>\n",
       "    </tr>\n",
       "    <tr>\n",
       "      <th>5</th>\n",
       "      <td>Supplier X</td>\n",
       "      <td>001-1001</td>\n",
       "      <td>2341</td>\n",
       "      <td>$500.00</td>\n",
       "      <td>1/20/2014</td>\n",
       "    </tr>\n",
       "    <tr>\n",
       "      <th>6</th>\n",
       "      <td>Supplier X</td>\n",
       "      <td>001-1001</td>\n",
       "      <td>5467</td>\n",
       "      <td>$750.00</td>\n",
       "      <td>1/20/2014</td>\n",
       "    </tr>\n",
       "    <tr>\n",
       "      <th>7</th>\n",
       "      <td>Supplier Z</td>\n",
       "      <td>920-4805</td>\n",
       "      <td>3321</td>\n",
       "      <td>$615.00</td>\n",
       "      <td>2/17/2014</td>\n",
       "    </tr>\n",
       "    <tr>\n",
       "      <th>8</th>\n",
       "      <td>Supplier Z</td>\n",
       "      <td>920-4806</td>\n",
       "      <td>3321</td>\n",
       "      <td>$615.00</td>\n",
       "      <td>2/24/2014</td>\n",
       "    </tr>\n",
       "  </tbody>\n",
       "</table>\n",
       "</div>"
      ],
      "text/plain": [
       "               0               1            2         3              4\n",
       "3  Supplier Name  Invoice Number  Part Number      Cost  Purchase Date\n",
       "4     Supplier X        001-1001         2341  $500.00       1/20/2014\n",
       "5     Supplier X        001-1001         2341  $500.00       1/20/2014\n",
       "6     Supplier X        001-1001         5467  $750.00       1/20/2014\n",
       "7     Supplier Z        920-4805         3321  $615.00       2/17/2014\n",
       "8     Supplier Z        920-4806         3321  $615.00       2/24/2014"
      ]
     },
     "execution_count": 160,
     "metadata": {},
     "output_type": "execute_result"
    }
   ],
   "source": [
    "data_frame = data_frame.drop([0,1,2,9,10,11])\n",
    "data_frame"
   ]
  },
  {
   "cell_type": "code",
   "execution_count": 161,
   "metadata": {},
   "outputs": [
    {
     "data": {
      "text/plain": [
       "0     Supplier Name\n",
       "1    Invoice Number\n",
       "2       Part Number\n",
       "3              Cost\n",
       "4     Purchase Date\n",
       "Name: 3, dtype: object"
      ]
     },
     "execution_count": 161,
     "metadata": {},
     "output_type": "execute_result"
    }
   ],
   "source": [
    "data_frame.iloc[0]"
   ]
  },
  {
   "cell_type": "code",
   "execution_count": 162,
   "metadata": {},
   "outputs": [
    {
     "data": {
      "text/html": [
       "<div>\n",
       "<style scoped>\n",
       "    .dataframe tbody tr th:only-of-type {\n",
       "        vertical-align: middle;\n",
       "    }\n",
       "\n",
       "    .dataframe tbody tr th {\n",
       "        vertical-align: top;\n",
       "    }\n",
       "\n",
       "    .dataframe thead th {\n",
       "        text-align: right;\n",
       "    }\n",
       "</style>\n",
       "<table border=\"1\" class=\"dataframe\">\n",
       "  <thead>\n",
       "    <tr style=\"text-align: right;\">\n",
       "      <th>3</th>\n",
       "      <th>Supplier Name</th>\n",
       "      <th>Invoice Number</th>\n",
       "      <th>Part Number</th>\n",
       "      <th>Cost</th>\n",
       "      <th>Purchase Date</th>\n",
       "    </tr>\n",
       "  </thead>\n",
       "  <tbody>\n",
       "    <tr>\n",
       "      <th>3</th>\n",
       "      <td>Supplier Name</td>\n",
       "      <td>Invoice Number</td>\n",
       "      <td>Part Number</td>\n",
       "      <td>Cost</td>\n",
       "      <td>Purchase Date</td>\n",
       "    </tr>\n",
       "    <tr>\n",
       "      <th>4</th>\n",
       "      <td>Supplier X</td>\n",
       "      <td>001-1001</td>\n",
       "      <td>2341</td>\n",
       "      <td>$500.00</td>\n",
       "      <td>1/20/2014</td>\n",
       "    </tr>\n",
       "    <tr>\n",
       "      <th>5</th>\n",
       "      <td>Supplier X</td>\n",
       "      <td>001-1001</td>\n",
       "      <td>2341</td>\n",
       "      <td>$500.00</td>\n",
       "      <td>1/20/2014</td>\n",
       "    </tr>\n",
       "    <tr>\n",
       "      <th>6</th>\n",
       "      <td>Supplier X</td>\n",
       "      <td>001-1001</td>\n",
       "      <td>5467</td>\n",
       "      <td>$750.00</td>\n",
       "      <td>1/20/2014</td>\n",
       "    </tr>\n",
       "    <tr>\n",
       "      <th>7</th>\n",
       "      <td>Supplier Z</td>\n",
       "      <td>920-4805</td>\n",
       "      <td>3321</td>\n",
       "      <td>$615.00</td>\n",
       "      <td>2/17/2014</td>\n",
       "    </tr>\n",
       "    <tr>\n",
       "      <th>8</th>\n",
       "      <td>Supplier Z</td>\n",
       "      <td>920-4806</td>\n",
       "      <td>3321</td>\n",
       "      <td>$615.00</td>\n",
       "      <td>2/24/2014</td>\n",
       "    </tr>\n",
       "  </tbody>\n",
       "</table>\n",
       "</div>"
      ],
      "text/plain": [
       "3  Supplier Name  Invoice Number  Part Number      Cost  Purchase Date\n",
       "3  Supplier Name  Invoice Number  Part Number      Cost  Purchase Date\n",
       "4     Supplier X        001-1001         2341  $500.00       1/20/2014\n",
       "5     Supplier X        001-1001         2341  $500.00       1/20/2014\n",
       "6     Supplier X        001-1001         5467  $750.00       1/20/2014\n",
       "7     Supplier Z        920-4805         3321  $615.00       2/17/2014\n",
       "8     Supplier Z        920-4806         3321  $615.00       2/24/2014"
      ]
     },
     "execution_count": 162,
     "metadata": {},
     "output_type": "execute_result"
    }
   ],
   "source": [
    "data_frame.columns = data_frame.iloc[0]  # 헤더 컬럼을 0번 행으로 지정한다. \n",
    "data_frame"
   ]
  },
  {
   "cell_type": "code",
   "execution_count": 163,
   "metadata": {},
   "outputs": [
    {
     "data": {
      "text/html": [
       "<div>\n",
       "<style scoped>\n",
       "    .dataframe tbody tr th:only-of-type {\n",
       "        vertical-align: middle;\n",
       "    }\n",
       "\n",
       "    .dataframe tbody tr th {\n",
       "        vertical-align: top;\n",
       "    }\n",
       "\n",
       "    .dataframe thead th {\n",
       "        text-align: right;\n",
       "    }\n",
       "</style>\n",
       "<table border=\"1\" class=\"dataframe\">\n",
       "  <thead>\n",
       "    <tr style=\"text-align: right;\">\n",
       "      <th>3</th>\n",
       "      <th>Supplier Name</th>\n",
       "      <th>Invoice Number</th>\n",
       "      <th>Part Number</th>\n",
       "      <th>Cost</th>\n",
       "      <th>Purchase Date</th>\n",
       "    </tr>\n",
       "  </thead>\n",
       "  <tbody>\n",
       "    <tr>\n",
       "      <th>4</th>\n",
       "      <td>Supplier X</td>\n",
       "      <td>001-1001</td>\n",
       "      <td>2341</td>\n",
       "      <td>$500.00</td>\n",
       "      <td>1/20/2014</td>\n",
       "    </tr>\n",
       "    <tr>\n",
       "      <th>5</th>\n",
       "      <td>Supplier X</td>\n",
       "      <td>001-1001</td>\n",
       "      <td>2341</td>\n",
       "      <td>$500.00</td>\n",
       "      <td>1/20/2014</td>\n",
       "    </tr>\n",
       "    <tr>\n",
       "      <th>6</th>\n",
       "      <td>Supplier X</td>\n",
       "      <td>001-1001</td>\n",
       "      <td>5467</td>\n",
       "      <td>$750.00</td>\n",
       "      <td>1/20/2014</td>\n",
       "    </tr>\n",
       "    <tr>\n",
       "      <th>7</th>\n",
       "      <td>Supplier Z</td>\n",
       "      <td>920-4805</td>\n",
       "      <td>3321</td>\n",
       "      <td>$615.00</td>\n",
       "      <td>2/17/2014</td>\n",
       "    </tr>\n",
       "    <tr>\n",
       "      <th>8</th>\n",
       "      <td>Supplier Z</td>\n",
       "      <td>920-4806</td>\n",
       "      <td>3321</td>\n",
       "      <td>$615.00</td>\n",
       "      <td>2/24/2014</td>\n",
       "    </tr>\n",
       "  </tbody>\n",
       "</table>\n",
       "</div>"
      ],
      "text/plain": [
       "3 Supplier Name Invoice Number Part Number      Cost Purchase Date\n",
       "4    Supplier X       001-1001        2341  $500.00      1/20/2014\n",
       "5    Supplier X       001-1001        2341  $500.00      1/20/2014\n",
       "6    Supplier X       001-1001        5467  $750.00      1/20/2014\n",
       "7    Supplier Z       920-4805        3321  $615.00      2/17/2014\n",
       "8    Supplier Z       920-4806        3321  $615.00      2/24/2014"
      ]
     },
     "execution_count": 163,
     "metadata": {},
     "output_type": "execute_result"
    }
   ],
   "source": [
    "data_frame = data_frame.reindex(data_frame.index.drop(3))\n",
    "data_frame"
   ]
  },
  {
   "cell_type": "code",
   "execution_count": 164,
   "metadata": {},
   "outputs": [],
   "source": [
    "data_frame.to_csv('../output_files/pandas_output_select_rows.csv', index=False)"
   ]
  },
  {
   "cell_type": "code",
   "execution_count": 166,
   "metadata": {},
   "outputs": [
    {
     "name": "stdout",
     "output_type": "stream",
     "text": [
      "Supplier Name,Invoice Number,Part Number,Cost,Purchase Date\r\n",
      "Supplier X,001-1001,2341,$500.00 ,1/20/2014\r\n",
      "Supplier X,001-1001,2341,$500.00 ,1/20/2014\r\n",
      "Supplier X,001-1001,5467,$750.00 ,1/20/2014\r\n",
      "Supplier Z,920-4805,3321,$615.00 ,2/17/2014\r\n",
      "Supplier Z,920-4806,3321,$615.00 ,2/24/2014\r\n"
     ]
    }
   ],
   "source": [
    "cat ../output_files/pandas_output_select_rows.csv"
   ]
  },
  {
   "cell_type": "markdown",
   "metadata": {},
   "source": [
    "## 헤더 추가하기 (137p)"
   ]
  },
  {
   "cell_type": "code",
   "execution_count": 167,
   "metadata": {},
   "outputs": [],
   "source": [
    "header_list = ['Supplier Name', 'Invoice Number', 'Part Number', 'Cost', 'Purchase Date']"
   ]
  },
  {
   "cell_type": "code",
   "execution_count": 173,
   "metadata": {},
   "outputs": [
    {
     "data": {
      "text/html": [
       "<div>\n",
       "<style scoped>\n",
       "    .dataframe tbody tr th:only-of-type {\n",
       "        vertical-align: middle;\n",
       "    }\n",
       "\n",
       "    .dataframe tbody tr th {\n",
       "        vertical-align: top;\n",
       "    }\n",
       "\n",
       "    .dataframe thead th {\n",
       "        text-align: right;\n",
       "    }\n",
       "</style>\n",
       "<table border=\"1\" class=\"dataframe\">\n",
       "  <thead>\n",
       "    <tr style=\"text-align: right;\">\n",
       "      <th></th>\n",
       "      <th>Supplier Name</th>\n",
       "      <th>Invoice Number</th>\n",
       "      <th>Part Number</th>\n",
       "      <th>Cost</th>\n",
       "      <th>Purchase Date</th>\n",
       "    </tr>\n",
       "  </thead>\n",
       "  <tbody>\n",
       "    <tr>\n",
       "      <th>0</th>\n",
       "      <td>Supplier X</td>\n",
       "      <td>001-1001</td>\n",
       "      <td>2341</td>\n",
       "      <td>$500.00</td>\n",
       "      <td>1/20/2014</td>\n",
       "    </tr>\n",
       "    <tr>\n",
       "      <th>1</th>\n",
       "      <td>Supplier X</td>\n",
       "      <td>001-1001</td>\n",
       "      <td>2341</td>\n",
       "      <td>$500.00</td>\n",
       "      <td>1/20/2014</td>\n",
       "    </tr>\n",
       "    <tr>\n",
       "      <th>2</th>\n",
       "      <td>Supplier X</td>\n",
       "      <td>001-1001</td>\n",
       "      <td>5467</td>\n",
       "      <td>$750.00</td>\n",
       "      <td>1/20/2014</td>\n",
       "    </tr>\n",
       "    <tr>\n",
       "      <th>3</th>\n",
       "      <td>Supplier Z</td>\n",
       "      <td>920-4805</td>\n",
       "      <td>3321</td>\n",
       "      <td>$615.00</td>\n",
       "      <td>2/17/2014</td>\n",
       "    </tr>\n",
       "    <tr>\n",
       "      <th>4</th>\n",
       "      <td>Supplier Z</td>\n",
       "      <td>920-4806</td>\n",
       "      <td>3321</td>\n",
       "      <td>$615.00</td>\n",
       "      <td>2/24/2014</td>\n",
       "    </tr>\n",
       "  </tbody>\n",
       "</table>\n",
       "</div>"
      ],
      "text/plain": [
       "  Supplier Name Invoice Number  Part Number      Cost Purchase Date\n",
       "0    Supplier X       001-1001         2341  $500.00      1/20/2014\n",
       "1    Supplier X       001-1001         2341  $500.00      1/20/2014\n",
       "2    Supplier X       001-1001         5467  $750.00      1/20/2014\n",
       "3    Supplier Z       920-4805         3321  $615.00      2/17/2014\n",
       "4    Supplier Z       920-4806         3321  $615.00      2/24/2014"
      ]
     },
     "execution_count": 173,
     "metadata": {},
     "output_type": "execute_result"
    }
   ],
   "source": [
    "data_frame = pd.read_csv('./supplier_data_without_header.csv', header=None, names=header_list)\n",
    "data_frame"
   ]
  },
  {
   "cell_type": "code",
   "execution_count": 174,
   "metadata": {},
   "outputs": [],
   "source": [
    "data_frame.to_csv('../output_files/pandas_output_add_header.csv', index=False)"
   ]
  },
  {
   "cell_type": "markdown",
   "metadata": {},
   "source": [
    "## 여러 파일 합치기"
   ]
  },
  {
   "cell_type": "markdown",
   "metadata": {},
   "source": [
    "### 파이썬"
   ]
  },
  {
   "cell_type": "code",
   "execution_count": 70,
   "metadata": {},
   "outputs": [],
   "source": [
    "import glob\n",
    "import os"
   ]
  },
  {
   "cell_type": "code",
   "execution_count": 181,
   "metadata": {},
   "outputs": [
    {
     "data": {
      "text/plain": [
       "'./sales_*'"
      ]
     },
     "execution_count": 181,
     "metadata": {},
     "output_type": "execute_result"
    }
   ],
   "source": [
    "# 경로 2개를 합치기\n",
    "os.path.join('.', 'sales_*')  "
   ]
  },
  {
   "cell_type": "code",
   "execution_count": 180,
   "metadata": {},
   "outputs": [
    {
     "data": {
      "text/plain": [
       "['./sales_february_2014.csv',\n",
       " './sales_january_2014.csv',\n",
       " './sales_march_2014.csv']"
      ]
     },
     "execution_count": 180,
     "metadata": {},
     "output_type": "execute_result"
    }
   ],
   "source": [
    "# 현재 경로에서 salse_로 시작하는 모든 파일 목록을 리스트로 가져온다. \n",
    "glob.glob('./sales_*')  "
   ]
  },
  {
   "cell_type": "code",
   "execution_count": 192,
   "metadata": {},
   "outputs": [
    {
     "name": "stdout",
     "output_type": "stream",
     "text": [
      "sales_february_2014.csv\n",
      "sales_january_2014.csv\n",
      "sales_march_2014.csv\n"
     ]
    }
   ],
   "source": [
    "# 합칠 대상인 파일들을 하나씩 순회한다.\n",
    "for input_file in glob.glob(os.path.join('.', 'sales_*')):\n",
    "    print(os.path.basename(input_file))  # 파일명만 가져온다."
   ]
  },
  {
   "cell_type": "code",
   "execution_count": 190,
   "metadata": {},
   "outputs": [
    {
     "name": "stdout",
     "output_type": "stream",
     "text": [
      "sales_february_2014.csv\n",
      "sales_january_2014.csv\n",
      "sales_march_2014.csv\n"
     ]
    }
   ],
   "source": [
    "# 합칠 대상인 파일들을 하나씩 순회한다.\n",
    "for input_file in glob.glob(os.path.join('.','sales_*')):\n",
    "    print(os.path.basename(input_file))  # 파일명만 가져온다.\n",
    "    \n",
    "    # 읽기용 파일 열기 \n",
    "    with open(input_file, 'r', newline='') as csv_in_file:\n",
    "        \n",
    "        # 쓰기용 파일 열기 - 'a' : append 모드, 'w' : write 모드 (덮어쓰기)\n",
    "        with open('../output_files/pandas_conacat_files.csv', 'a', newline='') as csv_out_file:\n",
    "                  \n",
    "            filereader = csv.reader(csv_in_file)\n",
    "            filewriter = csv.writer(csv_out_file)\n",
    "                  \n",
    "            # 읽기용 파일을 한줄씩 읽으면서, 쓰기용 파일에 한줄씩 쓰기\n",
    "            for row in filereader:\n",
    "                filewriter.writerow(row)"
   ]
  },
  {
   "cell_type": "markdown",
   "metadata": {},
   "source": [
    "### 팬더스"
   ]
  },
  {
   "cell_type": "code",
   "execution_count": 211,
   "metadata": {},
   "outputs": [
    {
     "data": {
      "text/plain": [
       "['./sales_february_2014.csv',\n",
       " './sales_january_2014.csv',\n",
       " './sales_march_2014.csv']"
      ]
     },
     "execution_count": 211,
     "metadata": {},
     "output_type": "execute_result"
    }
   ],
   "source": [
    "# 현재 경로에서 salse_로 시작하는 모든 파일 목록을 리스트로 가져온다. \n",
    "all_files = glob.glob(os.path.join('.', 'sales_*'))\n",
    "all_files"
   ]
  },
  {
   "cell_type": "code",
   "execution_count": 222,
   "metadata": {},
   "outputs": [
    {
     "data": {
      "text/html": [
       "<div>\n",
       "<style scoped>\n",
       "    .dataframe tbody tr th:only-of-type {\n",
       "        vertical-align: middle;\n",
       "    }\n",
       "\n",
       "    .dataframe tbody tr th {\n",
       "        vertical-align: top;\n",
       "    }\n",
       "\n",
       "    .dataframe thead th {\n",
       "        text-align: right;\n",
       "    }\n",
       "</style>\n",
       "<table border=\"1\" class=\"dataframe\">\n",
       "  <thead>\n",
       "    <tr style=\"text-align: right;\">\n",
       "      <th></th>\n",
       "      <th>Customer ID</th>\n",
       "      <th>Customer Name</th>\n",
       "      <th>Invoice Number</th>\n",
       "      <th>Sale Amount</th>\n",
       "      <th>Purchase Date</th>\n",
       "    </tr>\n",
       "  </thead>\n",
       "  <tbody>\n",
       "    <tr>\n",
       "      <th>0</th>\n",
       "      <td>9876</td>\n",
       "      <td>Daniel Farber</td>\n",
       "      <td>100-0008</td>\n",
       "      <td>$1,115.00</td>\n",
       "      <td>2/2/14</td>\n",
       "    </tr>\n",
       "    <tr>\n",
       "      <th>1</th>\n",
       "      <td>8765</td>\n",
       "      <td>Laney Stone</td>\n",
       "      <td>100-0009</td>\n",
       "      <td>$1,367.00</td>\n",
       "      <td>2/8/14</td>\n",
       "    </tr>\n",
       "    <tr>\n",
       "      <th>2</th>\n",
       "      <td>7654</td>\n",
       "      <td>Roger Lipney</td>\n",
       "      <td>100-0010</td>\n",
       "      <td>$2,135.00</td>\n",
       "      <td>2/15/14</td>\n",
       "    </tr>\n",
       "    <tr>\n",
       "      <th>3</th>\n",
       "      <td>6543</td>\n",
       "      <td>Thomas Haines</td>\n",
       "      <td>100-0011</td>\n",
       "      <td>$1,346.00</td>\n",
       "      <td>2/17/14</td>\n",
       "    </tr>\n",
       "    <tr>\n",
       "      <th>4</th>\n",
       "      <td>5432</td>\n",
       "      <td>Anushka Vaz</td>\n",
       "      <td>100-0012</td>\n",
       "      <td>$1,560.00</td>\n",
       "      <td>2/21/14</td>\n",
       "    </tr>\n",
       "    <tr>\n",
       "      <th>5</th>\n",
       "      <td>4321</td>\n",
       "      <td>Harriet Cooper</td>\n",
       "      <td>100-0013</td>\n",
       "      <td>$1,852.00</td>\n",
       "      <td>2/25/14</td>\n",
       "    </tr>\n",
       "    <tr>\n",
       "      <th>6</th>\n",
       "      <td>1234</td>\n",
       "      <td>John Smith</td>\n",
       "      <td>100-0002</td>\n",
       "      <td>$1,200.00</td>\n",
       "      <td>1/1/14</td>\n",
       "    </tr>\n",
       "    <tr>\n",
       "      <th>7</th>\n",
       "      <td>2345</td>\n",
       "      <td>Mary Harrison</td>\n",
       "      <td>100-0003</td>\n",
       "      <td>$1,425.00</td>\n",
       "      <td>1/6/14</td>\n",
       "    </tr>\n",
       "    <tr>\n",
       "      <th>8</th>\n",
       "      <td>3456</td>\n",
       "      <td>Lucy Gomez</td>\n",
       "      <td>100-0004</td>\n",
       "      <td>$1,390.00</td>\n",
       "      <td>1/11/14</td>\n",
       "    </tr>\n",
       "    <tr>\n",
       "      <th>9</th>\n",
       "      <td>4567</td>\n",
       "      <td>Rupert Jones</td>\n",
       "      <td>100-0005</td>\n",
       "      <td>$1,257.00</td>\n",
       "      <td>1/18/14</td>\n",
       "    </tr>\n",
       "    <tr>\n",
       "      <th>10</th>\n",
       "      <td>5678</td>\n",
       "      <td>Jenny Walters</td>\n",
       "      <td>100-0006</td>\n",
       "      <td>$1,725.00</td>\n",
       "      <td>1/24/14</td>\n",
       "    </tr>\n",
       "    <tr>\n",
       "      <th>11</th>\n",
       "      <td>6789</td>\n",
       "      <td>Samantha Donaldson</td>\n",
       "      <td>100-0007</td>\n",
       "      <td>$1,995.00</td>\n",
       "      <td>1/31/14</td>\n",
       "    </tr>\n",
       "    <tr>\n",
       "      <th>12</th>\n",
       "      <td>1234</td>\n",
       "      <td>John Smith</td>\n",
       "      <td>100-0014</td>\n",
       "      <td>$1,350.00</td>\n",
       "      <td>3/4/14</td>\n",
       "    </tr>\n",
       "    <tr>\n",
       "      <th>13</th>\n",
       "      <td>8765</td>\n",
       "      <td>Tony Song</td>\n",
       "      <td>100-0015</td>\n",
       "      <td>$1,167.00</td>\n",
       "      <td>3/8/14</td>\n",
       "    </tr>\n",
       "    <tr>\n",
       "      <th>14</th>\n",
       "      <td>2345</td>\n",
       "      <td>Mary Harrison</td>\n",
       "      <td>100-0016</td>\n",
       "      <td>$1,789.00</td>\n",
       "      <td>3/17/14</td>\n",
       "    </tr>\n",
       "    <tr>\n",
       "      <th>15</th>\n",
       "      <td>6543</td>\n",
       "      <td>Rachel Paz</td>\n",
       "      <td>100-0017</td>\n",
       "      <td>$2,042.00</td>\n",
       "      <td>3/22/14</td>\n",
       "    </tr>\n",
       "    <tr>\n",
       "      <th>16</th>\n",
       "      <td>3456</td>\n",
       "      <td>Lucy Gomez</td>\n",
       "      <td>100-0018</td>\n",
       "      <td>$1,511.00</td>\n",
       "      <td>3/28/14</td>\n",
       "    </tr>\n",
       "    <tr>\n",
       "      <th>17</th>\n",
       "      <td>4321</td>\n",
       "      <td>Susan Wallace</td>\n",
       "      <td>100-0019</td>\n",
       "      <td>$2,280.00</td>\n",
       "      <td>3/30/14</td>\n",
       "    </tr>\n",
       "  </tbody>\n",
       "</table>\n",
       "</div>"
      ],
      "text/plain": [
       "    Customer ID       Customer Name Invoice Number Sale Amount Purchase Date\n",
       "0          9876       Daniel Farber       100-0008   $1,115.00        2/2/14\n",
       "1          8765         Laney Stone       100-0009   $1,367.00        2/8/14\n",
       "2          7654        Roger Lipney       100-0010   $2,135.00       2/15/14\n",
       "3          6543       Thomas Haines       100-0011   $1,346.00       2/17/14\n",
       "4          5432         Anushka Vaz       100-0012   $1,560.00       2/21/14\n",
       "5          4321      Harriet Cooper       100-0013   $1,852.00       2/25/14\n",
       "6          1234          John Smith       100-0002   $1,200.00        1/1/14\n",
       "7          2345       Mary Harrison       100-0003   $1,425.00        1/6/14\n",
       "8          3456          Lucy Gomez       100-0004   $1,390.00       1/11/14\n",
       "9          4567        Rupert Jones       100-0005   $1,257.00       1/18/14\n",
       "10         5678       Jenny Walters       100-0006   $1,725.00       1/24/14\n",
       "11         6789  Samantha Donaldson       100-0007   $1,995.00       1/31/14\n",
       "12         1234          John Smith       100-0014   $1,350.00        3/4/14\n",
       "13         8765           Tony Song       100-0015   $1,167.00        3/8/14\n",
       "14         2345       Mary Harrison       100-0016   $1,789.00       3/17/14\n",
       "15         6543          Rachel Paz       100-0017   $2,042.00       3/22/14\n",
       "16         3456          Lucy Gomez       100-0018   $1,511.00       3/28/14\n",
       "17         4321       Susan Wallace       100-0019   $2,280.00       3/30/14"
      ]
     },
     "execution_count": 222,
     "metadata": {},
     "output_type": "execute_result"
    }
   ],
   "source": [
    "all_data_frames = []\n",
    "\n",
    "# 합칠 대상인 파일들을 하나씩 순회한다.\n",
    "for file in all_files:\n",
    "    \n",
    "    # 판다스 data_frame 형식으로 읽기 파일을 가져와서 \n",
    "    data_frame = pd.read_csv(file)\n",
    "    \n",
    "    # all_data_frames 리스트에 추가한다. \n",
    "    all_data_frames.append(data_frame)\n",
    "\n",
    "# concat 메소드를 사용해서 all_data_frames 리스트 안의 모든 data frame을 하나로 합친다. \n",
    "data_frame_concat = pd.concat(all_data_frames, ignore_index=True)\n",
    "\n",
    "# 합친 data frame을 쓰기용 파일에 입력한다.\n",
    "data_frame_concat.to_csv('../output_files/pandas_output_concat_files.csv', index=False)\n",
    "\n",
    "data_frame_concat"
   ]
  },
  {
   "cell_type": "markdown",
   "metadata": {},
   "source": [
    "##  연습문제"
   ]
  },
  {
   "cell_type": "code",
   "execution_count": 5,
   "metadata": {
    "scrolled": true
   },
   "outputs": [
    {
     "name": "stdout",
     "output_type": "stream",
     "text": [
      "Supplier Name,Invoice Number,Part Number,Cost,Purchase Date\r",
      "\r\n",
      "Supplier X,001-1001,2341,$500.00,1/20/14\r",
      "\r\n",
      "Supplier X,001-1001,2341,$500.00,1/20/14\r",
      "\r\n",
      "Supplier X,001-1001,5467,$750.00,1/20/14\r",
      "\r\n",
      "Supplier X,001-1001,5467,$750.00,1/20/14\r",
      "\r\n",
      "Supplier Y,50-9501,7009,$250.00,1/30/14\r",
      "\r\n",
      "Supplier Y,50-9501,7009,$250.00,1/30/14\r",
      "\r\n",
      "Supplier Y,50-9505,6650,$125.00,2/3/14\r",
      "\r\n",
      "Supplier Y,50-9505,6650,$125.00,2/3/14\r",
      "\r\n",
      "Supplier Z,920-4803,3321,$615.00,2/3/14\r",
      "\r\n",
      "Supplier Z,920-4804,3321,$615.00,2/10/14\r",
      "\r\n",
      "Supplier Z,920-4805,3321,$615.00,2/17/14\r",
      "\r\n",
      "Supplier Z,920-4806,3321,$615.00,2/24/14\r",
      "\r\n"
     ]
    }
   ],
   "source": [
    "cat supplier_data.csv"
   ]
  },
  {
   "cell_type": "markdown",
   "metadata": {},
   "source": [
    "### 연습문제 1 - pandas"
   ]
  },
  {
   "cell_type": "code",
   "execution_count": 92,
   "metadata": {},
   "outputs": [],
   "source": [
    "# Part Number가 7009 이거나 혹은 Cost가 $700.00 이상인 값을 출력\n",
    "data_frame = pd.read_csv('./supplier_data.csv')\n"
   ]
  },
  {
   "cell_type": "code",
   "execution_count": 66,
   "metadata": {
    "scrolled": true
   },
   "outputs": [
    {
     "data": {
      "text/plain": [
       "0     False\n",
       "1     False\n",
       "2      True\n",
       "3      True\n",
       "4      True\n",
       "5      True\n",
       "6     False\n",
       "7     False\n",
       "8     False\n",
       "9     False\n",
       "10    False\n",
       "11    False\n",
       "dtype: bool"
      ]
     },
     "execution_count": 66,
     "metadata": {},
     "output_type": "execute_result"
    }
   ],
   "source": [
    "filtering = (data_frame[\"Part Number\"] == 7009) | (data_frame[\"Cost\"].str.strip('$').astype('float') >= 00.00)\n",
    "filtering"
   ]
  },
  {
   "cell_type": "code",
   "execution_count": 67,
   "metadata": {},
   "outputs": [
    {
     "data": {
      "text/html": [
       "<div>\n",
       "<style scoped>\n",
       "    .dataframe tbody tr th:only-of-type {\n",
       "        vertical-align: middle;\n",
       "    }\n",
       "\n",
       "    .dataframe tbody tr th {\n",
       "        vertical-align: top;\n",
       "    }\n",
       "\n",
       "    .dataframe thead th {\n",
       "        text-align: right;\n",
       "    }\n",
       "</style>\n",
       "<table border=\"1\" class=\"dataframe\">\n",
       "  <thead>\n",
       "    <tr style=\"text-align: right;\">\n",
       "      <th></th>\n",
       "      <th>Supplier Name</th>\n",
       "      <th>Invoice Number</th>\n",
       "      <th>Part Number</th>\n",
       "      <th>Cost</th>\n",
       "      <th>Purchase Date</th>\n",
       "    </tr>\n",
       "  </thead>\n",
       "  <tbody>\n",
       "    <tr>\n",
       "      <th>2</th>\n",
       "      <td>Supplier X</td>\n",
       "      <td>001-1001</td>\n",
       "      <td>5467</td>\n",
       "      <td>$750.00</td>\n",
       "      <td>1/20/14</td>\n",
       "    </tr>\n",
       "    <tr>\n",
       "      <th>3</th>\n",
       "      <td>Supplier X</td>\n",
       "      <td>001-1001</td>\n",
       "      <td>5467</td>\n",
       "      <td>$750.00</td>\n",
       "      <td>1/20/14</td>\n",
       "    </tr>\n",
       "    <tr>\n",
       "      <th>4</th>\n",
       "      <td>Supplier Y</td>\n",
       "      <td>50-9501</td>\n",
       "      <td>7009</td>\n",
       "      <td>$250.00</td>\n",
       "      <td>1/30/14</td>\n",
       "    </tr>\n",
       "    <tr>\n",
       "      <th>5</th>\n",
       "      <td>Supplier Y</td>\n",
       "      <td>50-9501</td>\n",
       "      <td>7009</td>\n",
       "      <td>$250.00</td>\n",
       "      <td>1/30/14</td>\n",
       "    </tr>\n",
       "  </tbody>\n",
       "</table>\n",
       "</div>"
      ],
      "text/plain": [
       "  Supplier Name Invoice Number  Part Number     Cost Purchase Date\n",
       "2    Supplier X       001-1001         5467  $750.00       1/20/14\n",
       "3    Supplier X       001-1001         5467  $750.00       1/20/14\n",
       "4    Supplier Y        50-9501         7009  $250.00       1/30/14\n",
       "5    Supplier Y        50-9501         7009  $250.00       1/30/14"
      ]
     },
     "execution_count": 67,
     "metadata": {},
     "output_type": "execute_result"
    }
   ],
   "source": [
    "data_frame[filtering]"
   ]
  },
  {
   "cell_type": "markdown",
   "metadata": {},
   "source": [
    "### 연습문제 2 - pandas"
   ]
  },
  {
   "cell_type": "code",
   "execution_count": 26,
   "metadata": {},
   "outputs": [
    {
     "data": {
      "text/html": [
       "<div>\n",
       "<style scoped>\n",
       "    .dataframe tbody tr th:only-of-type {\n",
       "        vertical-align: middle;\n",
       "    }\n",
       "\n",
       "    .dataframe tbody tr th {\n",
       "        vertical-align: top;\n",
       "    }\n",
       "\n",
       "    .dataframe thead th {\n",
       "        text-align: right;\n",
       "    }\n",
       "</style>\n",
       "<table border=\"1\" class=\"dataframe\">\n",
       "  <thead>\n",
       "    <tr style=\"text-align: right;\">\n",
       "      <th></th>\n",
       "      <th>Supplier Name</th>\n",
       "      <th>Invoice Number</th>\n",
       "      <th>Part Number</th>\n",
       "      <th>Cost</th>\n",
       "      <th>Purchase Date</th>\n",
       "    </tr>\n",
       "  </thead>\n",
       "  <tbody>\n",
       "    <tr>\n",
       "      <th>0</th>\n",
       "      <td>Supplier X</td>\n",
       "      <td>001-1001</td>\n",
       "      <td>2341</td>\n",
       "      <td>$500.00</td>\n",
       "      <td>1/20/14</td>\n",
       "    </tr>\n",
       "    <tr>\n",
       "      <th>1</th>\n",
       "      <td>Supplier X</td>\n",
       "      <td>001-1001</td>\n",
       "      <td>2341</td>\n",
       "      <td>$500.00</td>\n",
       "      <td>1/20/14</td>\n",
       "    </tr>\n",
       "    <tr>\n",
       "      <th>2</th>\n",
       "      <td>Supplier X</td>\n",
       "      <td>001-1001</td>\n",
       "      <td>5467</td>\n",
       "      <td>$750.00</td>\n",
       "      <td>1/20/14</td>\n",
       "    </tr>\n",
       "    <tr>\n",
       "      <th>3</th>\n",
       "      <td>Supplier X</td>\n",
       "      <td>001-1001</td>\n",
       "      <td>5467</td>\n",
       "      <td>$750.00</td>\n",
       "      <td>1/20/14</td>\n",
       "    </tr>\n",
       "    <tr>\n",
       "      <th>4</th>\n",
       "      <td>Supplier Y</td>\n",
       "      <td>50-9501</td>\n",
       "      <td>7009</td>\n",
       "      <td>$250.00</td>\n",
       "      <td>1/30/14</td>\n",
       "    </tr>\n",
       "    <tr>\n",
       "      <th>5</th>\n",
       "      <td>Supplier Y</td>\n",
       "      <td>50-9501</td>\n",
       "      <td>7009</td>\n",
       "      <td>$250.00</td>\n",
       "      <td>1/30/14</td>\n",
       "    </tr>\n",
       "    <tr>\n",
       "      <th>6</th>\n",
       "      <td>Supplier Y</td>\n",
       "      <td>50-9505</td>\n",
       "      <td>6650</td>\n",
       "      <td>$125.00</td>\n",
       "      <td>2/3/14</td>\n",
       "    </tr>\n",
       "    <tr>\n",
       "      <th>7</th>\n",
       "      <td>Supplier Y</td>\n",
       "      <td>50-9505</td>\n",
       "      <td>6650</td>\n",
       "      <td>$125.00</td>\n",
       "      <td>2/3/14</td>\n",
       "    </tr>\n",
       "    <tr>\n",
       "      <th>8</th>\n",
       "      <td>Supplier Z</td>\n",
       "      <td>920-4803</td>\n",
       "      <td>3321</td>\n",
       "      <td>$615.00</td>\n",
       "      <td>2/3/14</td>\n",
       "    </tr>\n",
       "    <tr>\n",
       "      <th>9</th>\n",
       "      <td>Supplier Z</td>\n",
       "      <td>920-4804</td>\n",
       "      <td>3321</td>\n",
       "      <td>$615.00</td>\n",
       "      <td>2/10/14</td>\n",
       "    </tr>\n",
       "    <tr>\n",
       "      <th>10</th>\n",
       "      <td>Supplier Z</td>\n",
       "      <td>920-4805</td>\n",
       "      <td>3321</td>\n",
       "      <td>$615.00</td>\n",
       "      <td>2/17/14</td>\n",
       "    </tr>\n",
       "    <tr>\n",
       "      <th>11</th>\n",
       "      <td>Supplier Z</td>\n",
       "      <td>920-4806</td>\n",
       "      <td>3321</td>\n",
       "      <td>$615.00</td>\n",
       "      <td>2/24/14</td>\n",
       "    </tr>\n",
       "  </tbody>\n",
       "</table>\n",
       "</div>"
      ],
      "text/plain": [
       "   Supplier Name Invoice Number  Part Number     Cost Purchase Date\n",
       "0     Supplier X       001-1001         2341  $500.00       1/20/14\n",
       "1     Supplier X       001-1001         2341  $500.00       1/20/14\n",
       "2     Supplier X       001-1001         5467  $750.00       1/20/14\n",
       "3     Supplier X       001-1001         5467  $750.00       1/20/14\n",
       "4     Supplier Y        50-9501         7009  $250.00       1/30/14\n",
       "5     Supplier Y        50-9501         7009  $250.00       1/30/14\n",
       "6     Supplier Y        50-9505         6650  $125.00        2/3/14\n",
       "7     Supplier Y        50-9505         6650  $125.00        2/3/14\n",
       "8     Supplier Z       920-4803         3321  $615.00        2/3/14\n",
       "9     Supplier Z       920-4804         3321  $615.00       2/10/14\n",
       "10    Supplier Z       920-4805         3321  $615.00       2/17/14\n",
       "11    Supplier Z       920-4806         3321  $615.00       2/24/14"
      ]
     },
     "execution_count": 26,
     "metadata": {},
     "output_type": "execute_result"
    }
   ],
   "source": [
    "data_frame = pd.redata_frame[\"Cost\"].str.strip('$').astype('float')ad_csv('./supplier_data.csv')\n",
    "data_frame"
   ]
  },
  {
   "cell_type": "code",
   "execution_count": 28,
   "metadata": {},
   "outputs": [
    {
     "data": {
      "text/html": [
       "<div>\n",
       "<style scoped>\n",
       "    .dataframe tbody tr th:only-of-type {\n",
       "        vertical-align: middle;\n",
       "    }\n",
       "\n",
       "    .dataframe tbody tr th {\n",
       "        vertical-align: top;\n",
       "    }\n",
       "\n",
       "    .dataframe thead th {\n",
       "        text-align: right;\n",
       "    }\n",
       "</style>\n",
       "<table border=\"1\" class=\"dataframe\">\n",
       "  <thead>\n",
       "    <tr style=\"text-align: right;\">\n",
       "      <th></th>\n",
       "      <th>Invoice Number</th>\n",
       "      <th>Cost</th>\n",
       "    </tr>\n",
       "  </thead>\n",
       "  <tbody>\n",
       "    <tr>\n",
       "      <th>0</th>\n",
       "      <td>001-1001</td>\n",
       "      <td>$500.00</td>\n",
       "    </tr>\n",
       "    <tr>\n",
       "      <th>1</th>\n",
       "      <td>001-1001</td>\n",
       "      <td>$500.00</td>\n",
       "    </tr>\n",
       "    <tr>\n",
       "      <th>2</th>\n",
       "      <td>001-1001</td>\n",
       "      <td>$750.00</td>\n",
       "    </tr>\n",
       "    <tr>\n",
       "      <th>3</th>\n",
       "      <td>001-1001</td>\n",
       "      <td>$750.00</td>\n",
       "    </tr>\n",
       "    <tr>\n",
       "      <th>4</th>\n",
       "      <td>50-9501</td>\n",
       "      <td>$250.00</td>\n",
       "    </tr>\n",
       "    <tr>\n",
       "      <th>5</th>\n",
       "      <td>50-9501</td>\n",
       "      <td>$250.00</td>\n",
       "    </tr>\n",
       "    <tr>\n",
       "      <th>6</th>\n",
       "      <td>50-9505</td>\n",
       "      <td>$125.00</td>\n",
       "    </tr>\n",
       "    <tr>\n",
       "      <th>7</th>\n",
       "      <td>50-9505</td>\n",
       "      <td>$125.00</td>\n",
       "    </tr>\n",
       "    <tr>\n",
       "      <th>8</th>\n",
       "      <td>920-4803</td>\n",
       "      <td>$615.00</td>\n",
       "    </tr>\n",
       "    <tr>\n",
       "      <th>9</th>\n",
       "      <td>920-4804</td>\n",
       "      <td>$615.00</td>\n",
       "    </tr>\n",
       "    <tr>\n",
       "      <th>10</th>\n",
       "      <td>920-4805</td>\n",
       "      <td>$615.00</td>\n",
       "    </tr>\n",
       "    <tr>\n",
       "      <th>11</th>\n",
       "      <td>920-4806</td>\n",
       "      <td>$615.00</td>\n",
       "    </tr>\n",
       "  </tbody>\n",
       "</table>\n",
       "</div>"
      ],
      "text/plain": [
       "   Invoice Number     Cost\n",
       "0        001-1001  $500.00\n",
       "1        001-1001  $500.00\n",
       "2        001-1001  $750.00\n",
       "3        001-1001  $750.00\n",
       "4         50-9501  $250.00\n",
       "5         50-9501  $250.00\n",
       "6         50-9505  $125.00\n",
       "7         50-9505  $125.00\n",
       "8        920-4803  $615.00\n",
       "9        920-4804  $615.00\n",
       "10       920-4805  $615.00\n",
       "11       920-4806  $615.00"
      ]
     },
     "execution_count": 28,
     "metadata": {},
     "output_type": "execute_result"
    }
   ],
   "source": [
    "column_name_list = [\"Invoice Number\", \"Cost\"]\n",
    "data_frame[column_name_list]"
   ]
  },
  {
   "cell_type": "code",
   "execution_count": 29,
   "metadata": {},
   "outputs": [],
   "source": [
    "data_frame[column_name_list].to_csv('../output_files/pandas_practice_2.csv', index=False)"
   ]
  },
  {
   "cell_type": "code",
   "execution_count": 30,
   "metadata": {},
   "outputs": [
    {
     "name": "stdout",
     "output_type": "stream",
     "text": [
      "Invoice Number,Cost\r\n",
      "001-1001,$500.00\r\n",
      "001-1001,$500.00\r\n",
      "001-1001,$750.00\r\n",
      "001-1001,$750.00\r\n",
      "50-9501,$250.00\r\n",
      "50-9501,$250.00\r\n",
      "50-9505,$125.00\r\n",
      "50-9505,$125.00\r\n",
      "920-4803,$615.00\r\n",
      "920-4804,$615.00\r\n",
      "920-4805,$615.00\r\n",
      "920-4806,$615.00\r\n"
     ]
    }
   ],
   "source": [
    "cat ../output_files/pandas_practice_2.csv"
   ]
  },
  {
   "cell_type": "markdown",
   "metadata": {},
   "source": [
    "### 연습문제 3 - pandas"
   ]
  },
  {
   "cell_type": "code",
   "execution_count": 72,
   "metadata": {},
   "outputs": [
    {
     "data": {
      "text/plain": [
       "['./deal_1.csv', './deal_2.csv', './deal_3.csv']"
      ]
     },
     "execution_count": 72,
     "metadata": {},
     "output_type": "execute_result"
    }
   ],
   "source": [
    "files = glob.glob(os.path.join('.', 'deal_*'))\n",
    "files"
   ]
  },
  {
   "cell_type": "code",
   "execution_count": 86,
   "metadata": {},
   "outputs": [],
   "source": [
    "# pd.read_csv('./deal_1.csv', delimiter=';')"
   ]
  },
  {
   "cell_type": "code",
   "execution_count": 88,
   "metadata": {},
   "outputs": [],
   "source": [
    "data_frame_list = []\n",
    "\n",
    "for file in files:\n",
    "    data_frame = pd.read_csv(file, delimiter=';')\n",
    "    data_frame_list.append(data_frame)"
   ]
  },
  {
   "cell_type": "code",
   "execution_count": 89,
   "metadata": {},
   "outputs": [],
   "source": [
    "# result = pd.concat(data_frame_list, ignore_index=True)\n",
    "# result"
   ]
  },
  {
   "cell_type": "code",
   "execution_count": 84,
   "metadata": {},
   "outputs": [],
   "source": [
    "result.to_csv('../output_files/pandas_practice_3.csv', index=False)"
   ]
  },
  {
   "cell_type": "code",
   "execution_count": null,
   "metadata": {},
   "outputs": [],
   "source": []
  }
 ],
 "metadata": {
  "kernelspec": {
   "display_name": "Python 3",
   "language": "python",
   "name": "python3"
  },
  "language_info": {
   "codemirror_mode": {
    "name": "ipython",
    "version": 3
   },
   "file_extension": ".py",
   "mimetype": "text/x-python",
   "name": "python",
   "nbconvert_exporter": "python",
   "pygments_lexer": "ipython3",
   "version": "3.6.0"
  }
 },
 "nbformat": 4,
 "nbformat_minor": 2
}
