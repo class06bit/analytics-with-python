{
 "cells": [
  {
   "cell_type": "code",
   "execution_count": 9,
   "metadata": {},
   "outputs": [
    {
     "name": "stdout",
     "output_type": "stream",
     "text": [
      "#7: 3.074\n",
      "#8: 11.8\n",
      "#9: 2.67\n"
     ]
    }
   ],
   "source": [
    "# 실수\n",
    "print(\"#7: {0:.3f}\".format(8.3/2.7))\n",
    "y = 2.5*4.7\n",
    "print(\"#8: {0:.1f}\".format(y))\n",
    "r = 8/float(3)\n",
    "print(\"#9: {0:.2f}\".format(r))"
   ]
  },
  {
   "cell_type": "code",
   "execution_count": 10,
   "metadata": {},
   "outputs": [],
   "source": [
    "# math 모듈 임포트\n",
    "from math import exp, log, sqrt"
   ]
  },
  {
   "cell_type": "code",
   "execution_count": 15,
   "metadata": {},
   "outputs": [
    {
     "name": "stdout",
     "output_type": "stream",
     "text": [
      "#10: 20.0855\n",
      "#10: 1.39\n",
      "#10: 9.0\n"
     ]
    }
   ],
   "source": [
    "print(\"#10: {:.4f}\".format(exp(3)))\n",
    "print(\"#10: {:.2f}\".format(log(4)))\n",
    "print(\"#10: {:.1f}\".format(sqrt(81)))"
   ]
  },
  {
   "cell_type": "code",
   "execution_count": 21,
   "metadata": {},
   "outputs": [
    {
     "name": "stdout",
     "output_type": "stream",
     "text": [
      "['My', 'deliverable', 'is', 'due', 'in', 'May']\n",
      "['My', 'deliverable', 'is due in May']\n",
      "['Your', 'deliverable', 'is', 'due', 'in', 'June']\n"
     ]
    }
   ],
   "source": [
    "# split\n",
    "string1 = \"My deliverable is due in May\"\n",
    "string1_list1 = string1.split()\n",
    "string1_list2 = string1.split(\" \", 2)\n",
    "print(string1_list1)\n",
    "print(string1_list2)\n",
    "\n",
    "string2 = \"Your,deliverable,is,due,in,June\"\n",
    "string2_list = string2.split(',')\n",
    "print(string2_list)"
   ]
  },
  {
   "cell_type": "code",
   "execution_count": 22,
   "metadata": {},
   "outputs": [
    {
     "name": "stdout",
     "output_type": "stream",
     "text": [
      "#25: Your,deliverable,is,due,in,June\n"
     ]
    }
   ],
   "source": [
    "# join\n",
    "print(\"#25: {}\".format(','.join(string2_list)))"
   ]
  },
  {
   "cell_type": "code",
   "execution_count": 29,
   "metadata": {},
   "outputs": [
    {
     "name": "stdout",
     "output_type": "stream",
     "text": [
      "#26:  Remove  unwanted characters   from this string.\t\t     \n",
      "\n",
      "#27: Remove  unwanted characters   from this string.\t\t     \n",
      "\n",
      "#28:  Remove  unwanted characters   from this string.\n",
      "#28: Remove  unwanted characters   from this string.\n"
     ]
    }
   ],
   "source": [
    "# strip\n",
    "string3 =\" Remove  unwanted characters   from this string.\\t\\t     \\n\"\n",
    "print(\"#26: {}\".format(string3))\n",
    "string3_lstrip = string3.lstrip()\n",
    "print(\"#27: {}\".format(string3_lstrip))\n",
    "string3_rstrip = string3.rstrip()\n",
    "print(\"#28: {}\".format(string3_rstrip))\n",
    "string3_strip = string3.strip()\n",
    "print(\"#28: {}\".format(string3_strip))\n"
   ]
  },
  {
   "cell_type": "code",
   "execution_count": 36,
   "metadata": {},
   "outputs": [
    {
     "name": "stdout",
     "output_type": "stream",
     "text": [
      "#29: $$Here's another string that has unwanted characters.__----++\n",
      "#30: Here's another string that has unwanted characters.\n"
     ]
    }
   ],
   "source": [
    "string4 = \"$$Here's another string that has unwanted characters.__----++\"\n",
    "print(\"#29: {}\".format(string4))\n",
    "string4_strip = string4.strip('$_-+')\n",
    "print(\"#30: {}\".format(string4_strip))"
   ]
  },
  {
   "cell_type": "code",
   "execution_count": 41,
   "metadata": {},
   "outputs": [
    {
     "name": "stdout",
     "output_type": "stream",
     "text": [
      "#34: here's what happens when you use lower.\n",
      "#35: HERE'S WHAT HAPPENS WHEN YOU USE LOWER.\n",
      "#36: Here's what happens when you use lower.\n",
      "#37: Here's\n",
      "#37: What\n",
      "#37: Happens\n",
      "#37: When\n",
      "#37: You\n",
      "#37: Use\n",
      "#37: Lower.\n"
     ]
    }
   ],
   "source": [
    "# lower, upper, capitalize\n",
    "string6 = \"Here's WHAT Happens WHEN You Use lower.\"\n",
    "print(\"#34: {}\".format(string6.lower()))\n",
    "print(\"#35: {}\".format(string6.upper()))\n",
    "print(\"#36: {}\".format(string6.capitalize()))\n",
    "\n",
    "string6_list = string6.split()\n",
    "for word in string6_list:\n",
    "    print(\"#37: {}\".format(word.capitalize()))"
   ]
  },
  {
   "cell_type": "code",
   "execution_count": 42,
   "metadata": {},
   "outputs": [],
   "source": [
    "# 정규 표현식과 패턴 매칭\n",
    "import re"
   ]
  },
  {
   "cell_type": "code",
   "execution_count": 60,
   "metadata": {},
   "outputs": [
    {
     "name": "stdout",
     "output_type": "stream",
     "text": [
      "2\n"
     ]
    }
   ],
   "source": [
    "# 문자열 내에 등장하는 패턴의 횟수를 세기\n",
    "string = \"The quick brown for jumps over the lazy dog\"\n",
    "string_list = string.split()\n",
    "pattern = re.compile(r\"THE\", re.I) # 컴파일을 통해서 프로그램 속도 향상\n",
    "count = 0\n",
    "\n",
    "for word in string_list:\n",
    "    if pattern.search(word):\n",
    "        count += 1\n",
    "\n",
    "print(count)"
   ]
  },
  {
   "cell_type": "code",
   "execution_count": 64,
   "metadata": {},
   "outputs": [
    {
     "name": "stdout",
     "output_type": "stream",
     "text": [
      "#39:\n",
      "The\n",
      "the\n"
     ]
    }
   ],
   "source": [
    "# 문자열 내에서 발견된 패턴 출력하기\n",
    "string = \"The quick brown for jumps over the lazy dog.\"\n",
    "string_list = string.split()\n",
    "pattern = re.compile(r\"(?P<match_word>The)\", re.I)\n",
    "print(\"#39:\")\n",
    "for word in string_list:\n",
    "    if pattern.search(word):\n",
    "        print(\"{}\".format(pattern.search(word).group('match_word')))\n",
    "    "
   ]
  },
  {
   "cell_type": "code",
   "execution_count": 66,
   "metadata": {},
   "outputs": [
    {
     "name": "stdout",
     "output_type": "stream",
     "text": [
      "#40: a quick brown fox jumps over a lazy dog.\n"
     ]
    }
   ],
   "source": [
    "# 문자열 내 \"the\"를 \"a\"로 대체하기\n",
    "string = \"The quick brown fox jumps over the lazy dog.\"\n",
    "string_to_find = r\"The\"\n",
    "pattern = re.compile(string_to_find, re.I)\n",
    "print(\"#40: {}\".format(pattern.sub(\"a\", string)))"
   ]
  },
  {
   "cell_type": "code",
   "execution_count": 15,
   "metadata": {},
   "outputs": [
    {
     "name": "stdout",
     "output_type": "stream",
     "text": [
      "today: 2017-12-23\n",
      "2017\n",
      "12\n",
      "23\n",
      "2017-12-23 22:21:36.267569\n",
      "2017-12-23 22:21:36.267647\n",
      "2017-12-23 22:21:36.267749\n"
     ]
    }
   ],
   "source": [
    "# 오늘 날짜와 년, 월, 일 요소들을 출력하기 \n",
    "from datetime import date, time, datetime, timedelta\n",
    "\n",
    "today = date.today()\n",
    "print(\"today: {}\".format(today))\n",
    "print(\"{}\".format(today.year))\n",
    "print(\"{}\".format(today.month))\n",
    "print(\"{}\".format(today.day))\n",
    "current_datetime = datetime.today()\n",
    "print(\"{}\".format(current_datetime))\n",
    "print(datetime.now())\n",
    "print(datetime.today())"
   ]
  },
  {
   "cell_type": "code",
   "execution_count": 25,
   "metadata": {},
   "outputs": [
    {
     "name": "stdout",
     "output_type": "stream",
     "text": [
      "2017-12-22\n",
      "-1, 57600\n"
     ]
    }
   ],
   "source": [
    "# timedelta 함수를 이용하여 새로운 날짜 계산하기\n",
    "one_day = timedelta(days=-1)\n",
    "yesterday = today + one_day\n",
    "print(\"{}\".format(yesterday))\n",
    "eight_hours = timedelta(hours=-8)\n",
    "print(\"{}, {}\".format(eight_hours.days, eight_hours.seconds))"
   ]
  },
  {
   "cell_type": "code",
   "execution_count": 29,
   "metadata": {},
   "outputs": [
    {
     "name": "stdout",
     "output_type": "stream",
     "text": [
      "1 day, 0:00:00\n",
      "1\n"
     ]
    }
   ],
   "source": [
    "# 두 날짜 사이의 날짜 차이를 계산하기\n",
    "date_diff = today - yesterday\n",
    "print(date_diff)\n",
    "print(\"{}\".format(str(date_diff).split()[0]))"
   ]
  },
  {
   "cell_type": "code",
   "execution_count": 41,
   "metadata": {},
   "outputs": [
    {
     "name": "stdout",
     "output_type": "stream",
     "text": [
      "12/23/2017\n",
      "Dec 23, 2017\n",
      "2017-12-23\n",
      "December 23, 2017\n"
     ]
    }
   ],
   "source": [
    "# date 객체를 특정 형식의 문자열로 만들기\n",
    "print(\"{}\".format(today.strftime('%m/%d/%Y')))\n",
    "print(\"{}\".format(today.strftime('%b %d, %Y')))\n",
    "print(\"{}\".format(today.strftime('%Y-%m-%d')))\n",
    "print(\"{}\".format(today.strftime('%B %d, %Y')))"
   ]
  },
  {
   "cell_type": "code",
   "execution_count": 44,
   "metadata": {},
   "outputs": [
    {
     "name": "stdout",
     "output_type": "stream",
     "text": [
      "2017-12-23 00:00:00\n",
      "2017-12-23 00:00:00\n"
     ]
    }
   ],
   "source": [
    "# 다른 date 형식을 지닌 4가지 문자열에 기반한 각각 2종류의 datetiem 객체들과 date 객체들\n",
    "date1 = today.strftime('%m/%d/%Y')\n",
    "date2 = today.strftime('%b %d, %Y')\n",
    "print(datetime.strptime(date1, '%m/%d/%Y'))\n",
    "print(datetime.strptime(date2, '%b %d, %Y'))"
   ]
  },
  {
   "cell_type": "code",
   "execution_count": 53,
   "metadata": {},
   "outputs": [
    {
     "name": "stdout",
     "output_type": "stream",
     "text": [
      "[3, 4, 1, 7, 0, 2]\n",
      "[3, 4, 1, 7, 0, 2]\n",
      "[0, 1, 2, 3, 4, 7]\n"
     ]
    }
   ],
   "source": [
    "# sort 함수\n",
    "unordered_list = [3,4,1,7,0,2]\n",
    "print(unordered_list)\n",
    "list_copy = unordered_list[:]\n",
    "print(list_copy)\n",
    "list_copy.sort()\n",
    "print(list_copy)"
   ]
  },
  {
   "cell_type": "code",
   "execution_count": 57,
   "metadata": {},
   "outputs": [
    {
     "name": "stdout",
     "output_type": "stream",
     "text": [
      "[[4, 3, 2, 1], [2, 4, 1, 3], [1, 2, 3, 4]]\n"
     ]
    }
   ],
   "source": [
    "# sorted 함수\n",
    "my_lists = [[1,2,3,4], [4,3,2,1], [2,4,1,3]]\n",
    "my_list_sorted_by_index_3 = sorted(my_lists, key=lambda index_value: index_value[3])\n",
    "print(my_list_sorted_by_index_3)"
   ]
  },
  {
   "cell_type": "code",
   "execution_count": 59,
   "metadata": {},
   "outputs": [],
   "source": [
    "from operator import itemgetter"
   ]
  },
  {
   "cell_type": "code",
   "execution_count": 60,
   "metadata": {},
   "outputs": [
    {
     "data": {
      "text/plain": [
       "[[22, 6, 6, 444], [123, 2, 2, 444], [236, 5, 5, 678], [354, 4, 4, 678]]"
      ]
     },
     "execution_count": 60,
     "metadata": {},
     "output_type": "execute_result"
    }
   ],
   "source": [
    "# itemgetter() 함수를 이용하여 2개 인덱스 위치에 따라 리스트 정렬하기\n",
    "my_lists = [[123,2,2,444], [22,6,6,444], [354,4,4,678], [236,5,5,678]]\n",
    "my_lists_sorted_by_index_3_and_0 = sorted(my_lists, key=itemgetter(3,0))\n",
    "my_lists_sorted_by_index_3_and_0"
   ]
  },
  {
   "cell_type": "code",
   "execution_count": 66,
   "metadata": {},
   "outputs": [
    {
     "name": "stdout",
     "output_type": "stream",
     "text": [
      "[('one', 1), ('three', 3), ('two', 2)]\n",
      "[('one', 1), ('two', 2), ('three', 3)]\n",
      "[('three', 3), ('two', 2), ('one', 1)]\n",
      "[('one', 1), ('two', 2), ('three', 3)]\n"
     ]
    }
   ],
   "source": [
    "# 딕셔너리 정렬\n",
    "a_dict = {'one':1, 'two':2, 'three':3}\n",
    "dict_copy = a_dict.copy()\n",
    "print(sorted(dict_copy.items(), key=lambda item: item[0]))\n",
    "print(sorted(dict_copy.items(), key=lambda item: item[1]))\n",
    "print(sorted(dict_copy.items(), key=lambda item: item[1], reverse=True))\n",
    "print(sorted(dict_copy.items(), key=lambda item: item[1], reverse=False))"
   ]
  },
  {
   "cell_type": "code",
   "execution_count": 69,
   "metadata": {},
   "outputs": [
    {
     "data": {
      "text/plain": [
       "[[4, 5, 6], [7, 8, 9]]"
      ]
     },
     "execution_count": 69,
     "metadata": {},
     "output_type": "execute_result"
    }
   ],
   "source": [
    "# 리스트 축약\n",
    "my_data =[[1,2,3], [4,5,6], [7,8,9]]\n",
    "rows_to_keep = [row for row in my_data if row[2] > 5]\n",
    "rows_to_keep"
   ]
  },
  {
   "cell_type": "code",
   "execution_count": 74,
   "metadata": {},
   "outputs": [
    {
     "name": "stdout",
     "output_type": "stream",
     "text": [
      "{(4, 5, 6), (7, 8, 9), (1, 2, 3)}\n",
      "{(4, 5, 6), (7, 8, 9), (1, 2, 3)}\n"
     ]
    }
   ],
   "source": [
    "# 잡합축약\n",
    "my_data = [(1,2,3), (4,5,6), (7,8,9), (7,8,9)]\n",
    "set_of_tuples1 = {x for x in my_data}\n",
    "print(set_of_tuples1)\n",
    "set_of_tupels2 = set(my_data)\n",
    "print(set_of_tupels2)"
   ]
  },
  {
   "cell_type": "code",
   "execution_count": 78,
   "metadata": {},
   "outputs": [
    {
     "data": {
      "text/plain": [
       "{'customer': 11}"
      ]
     },
     "execution_count": 78,
     "metadata": {},
     "output_type": "execute_result"
    }
   ],
   "source": [
    "# 딕셔너리 축약\n",
    "my_dict = {'customer1': 7, 'customer2': 9, 'customer': 11}\n",
    "{key: value for key, value in my_dict.items() if value > 10}"
   ]
  },
  {
   "cell_type": "code",
   "execution_count": 79,
   "metadata": {},
   "outputs": [
    {
     "name": "stdout",
     "output_type": "stream",
     "text": [
      "0\n",
      "1\n",
      "2\n",
      "3\n",
      "4\n",
      "5\n",
      "6\n",
      "7\n",
      "8\n",
      "9\n",
      "10\n"
     ]
    }
   ],
   "source": [
    "# while 문\n",
    "x = 0\n",
    "while x < 11:\n",
    "    print(x)\n",
    "    x += 1"
   ]
  },
  {
   "cell_type": "code",
   "execution_count": 80,
   "metadata": {},
   "outputs": [
    {
     "data": {
      "text/plain": [
       "3.0"
      ]
     },
     "execution_count": 80,
     "metadata": {},
     "output_type": "execute_result"
    }
   ],
   "source": [
    "import numpy as np\n",
    "np.mean([1,2,3,4,5])"
   ]
  },
  {
   "cell_type": "code",
   "execution_count": 81,
   "metadata": {},
   "outputs": [
    {
     "name": "stdout",
     "output_type": "stream",
     "text": [
      "3.0\n",
      "finally\n"
     ]
    }
   ],
   "source": [
    "try:\n",
    "    result = np.mean([1,2,3,4,5])\n",
    "except ZeroDivisionError as detail:\n",
    "    print(float('nan'))\n",
    "    print(detail)\n",
    "else:\n",
    "    print(result)\n",
    "finally:\n",
    "    print('finally')"
   ]
  },
  {
   "cell_type": "code",
   "execution_count": 82,
   "metadata": {},
   "outputs": [
    {
     "name": "stdout",
     "output_type": "stream",
     "text": [
      "nan\n",
      "finally\n"
     ]
    },
    {
     "name": "stderr",
     "output_type": "stream",
     "text": [
      "/usr/local/var/pyenv/versions/3.6.0/envs/analytics/lib/python3.6/site-packages/numpy/core/fromnumeric.py:2909: RuntimeWarning: Mean of empty slice.\n",
      "  out=out, **kwargs)\n",
      "/usr/local/var/pyenv/versions/3.6.0/envs/analytics/lib/python3.6/site-packages/numpy/core/_methods.py:80: RuntimeWarning: invalid value encountered in double_scalars\n",
      "  ret = ret.dtype.type(ret / rcount)\n"
     ]
    }
   ],
   "source": [
    "try:\n",
    "    result = np.mean([])\n",
    "except ZeroDivisionError as detail:\n",
    "    print(float('nan'))\n",
    "    print(detail)\n",
    "else:\n",
    "    print(result)\n",
    "finally:\n",
    "    print('finally')"
   ]
  },
  {
   "cell_type": "code",
   "execution_count": null,
   "metadata": {},
   "outputs": [],
   "source": []
  }
 ],
 "metadata": {
  "kernelspec": {
   "display_name": "Python 3",
   "language": "python",
   "name": "python3"
  },
  "language_info": {
   "codemirror_mode": {
    "name": "ipython",
    "version": 3
   },
   "file_extension": ".py",
   "mimetype": "text/x-python",
   "name": "python",
   "nbconvert_exporter": "python",
   "pygments_lexer": "ipython3",
   "version": "3.6.0"
  }
 },
 "nbformat": 4,
 "nbformat_minor": 2
}
